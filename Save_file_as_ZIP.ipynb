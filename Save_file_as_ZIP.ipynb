{
 "cells": [
  {
   "cell_type": "code",
   "execution_count": 2,
   "metadata": {},
   "outputs": [],
   "source": [
    "import zipfile\n",
    "zip_files=zipfile.ZipFile('archive.zip','w') # zip filename\n",
    "\n",
    "#--------------------------------------Files that you want to put inside zip file------------------------------------------\n",
    "zip_files.write(r'C:\\Users\\OPKE User\\Desktop\\sample data\\data1.csv',compress_type=zipfile.ZIP_DEFLATED)# file 1\n",
    "zip_files.write(r'C:\\Users\\OPKE User\\Desktop\\sample data\\data2.csv',compress_type=zipfile.ZIP_DEFLATED)# file 2\n",
    "zip_files.close()"
   ]
  }
 ],
 "metadata": {
  "kernelspec": {
   "display_name": "Python 3",
   "language": "python",
   "name": "python3"
  },
  "language_info": {
   "codemirror_mode": {
    "name": "ipython",
    "version": 3
   },
   "file_extension": ".py",
   "mimetype": "text/x-python",
   "name": "python",
   "nbconvert_exporter": "python",
   "pygments_lexer": "ipython3",
   "version": "3.7.3"
  }
 },
 "nbformat": 4,
 "nbformat_minor": 2
}
